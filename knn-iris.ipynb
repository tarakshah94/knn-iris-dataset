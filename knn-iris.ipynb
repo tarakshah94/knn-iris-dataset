{
  "nbformat": 4,
  "nbformat_minor": 0,
  "metadata": {
    "colab": {
      "name": "indiverse.ipynb",
      "provenance": [],
      "toc_visible": true
    },
    "kernelspec": {
      "name": "python3",
      "display_name": "Python 3"
    }
  },
  "cells": [
    {
      "cell_type": "code",
      "metadata": {
        "id": "Y362CUJWxYZD",
        "colab_type": "code",
        "colab": {}
      },
      "source": [
        "import pandas as pd\n",
        "from matplotlib import pyplot\n",
        "from sklearn.model_selection import train_test_split\n",
        "from sklearn.metrics import accuracy_score"
      ],
      "execution_count": 0,
      "outputs": []
    },
    {
      "cell_type": "code",
      "metadata": {
        "id": "Pw_bYkKgyM9t",
        "colab_type": "code",
        "outputId": "bd922d2a-065f-4a3e-8c80-d3857ab958f1",
        "colab": {
          "base_uri": "https://localhost:8080/",
          "height": 391
        }
      },
      "source": [
        "file_input = pd.read_csv('/content/Data-Q1.csv')\n",
        "file_input.set_index('Id', inplace=True)\n",
        "file_input.head()\n",
        "print(file_input.describe())\n",
        "print(file_input.info())"
      ],
      "execution_count": 0,
      "outputs": [
        {
          "output_type": "stream",
          "text": [
            "       SepalLengthCm  SepalWidthCm  PetalLengthCm  PetalWidthCm\n",
            "count     150.000000    150.000000     150.000000    150.000000\n",
            "mean        5.843333      3.054000       3.758667      1.198667\n",
            "std         0.828066      0.433594       1.764420      0.763161\n",
            "min         4.300000      2.000000       1.000000      0.100000\n",
            "25%         5.100000      2.800000       1.600000      0.300000\n",
            "50%         5.800000      3.000000       4.350000      1.300000\n",
            "75%         6.400000      3.300000       5.100000      1.800000\n",
            "max         7.900000      4.400000       6.900000      2.500000\n",
            "<class 'pandas.core.frame.DataFrame'>\n",
            "Int64Index: 150 entries, 1 to 150\n",
            "Data columns (total 5 columns):\n",
            " #   Column         Non-Null Count  Dtype  \n",
            "---  ------         --------------  -----  \n",
            " 0   SepalLengthCm  150 non-null    float64\n",
            " 1   SepalWidthCm   150 non-null    float64\n",
            " 2   PetalLengthCm  150 non-null    float64\n",
            " 3   PetalWidthCm   150 non-null    float64\n",
            " 4   Species        150 non-null    object \n",
            "dtypes: float64(4), object(1)\n",
            "memory usage: 7.0+ KB\n",
            "None\n"
          ],
          "name": "stdout"
        }
      ]
    },
    {
      "cell_type": "code",
      "metadata": {
        "id": "k_kihYd36rOC",
        "colab_type": "code",
        "colab": {}
      },
      "source": [
        "file_input['Species'] = file_input['Species'].astype('category')\n",
        "# file_input.dtypes\n",
        "file_input['Species'] = file_input['Species'].cat.codes\n",
        "# file_input.dtypes\n",
        "# file_input['Species'].value_counts()"
      ],
      "execution_count": 0,
      "outputs": []
    },
    {
      "cell_type": "code",
      "metadata": {
        "id": "da61PraH55eb",
        "colab_type": "code",
        "outputId": "7f95ed65-d71a-4276-f021-8ae2220093b4",
        "colab": {
          "base_uri": "https://localhost:8080/",
          "height": 475
        }
      },
      "source": [
        "plot_petals_scatter = file_input[file_input.Species==0].plot.scatter(x='PetalLengthCm', y='PetalWidthCm', \n",
        "                                                    color='red', label='setosa')\n",
        "file_input[file_input.Species==1].plot.scatter(x='PetalLengthCm', y='PetalWidthCm', \n",
        "                                                color='green', label='versicolor', ax=plot_petals_scatter)\n",
        "file_input[file_input.Species==2].plot.scatter(x='PetalLengthCm', y='PetalWidthCm', \n",
        "                                                color='blue', label='virginica', ax=plot_petals_scatter)\n",
        "plot_petals_scatter.set_title(\"Scatter_plot\")"
      ],
      "execution_count": 0,
      "outputs": [
        {
          "output_type": "error",
          "ename": "AttributeError",
          "evalue": "ignored",
          "traceback": [
            "\u001b[0;31m---------------------------------------------------------------------------\u001b[0m",
            "\u001b[0;31mAttributeError\u001b[0m                            Traceback (most recent call last)",
            "\u001b[0;32m<ipython-input-94-e80470b4a1d9>\u001b[0m in \u001b[0;36m<module>\u001b[0;34m()\u001b[0m\n\u001b[1;32m      7\u001b[0m \u001b[0mplot_scatter\u001b[0m\u001b[0;34m.\u001b[0m\u001b[0mset_title\u001b[0m\u001b[0;34m(\u001b[0m\u001b[0;34m\"Scatter_plot\"\u001b[0m\u001b[0;34m)\u001b[0m\u001b[0;34m\u001b[0m\u001b[0;34m\u001b[0m\u001b[0m\n\u001b[1;32m      8\u001b[0m \u001b[0;34m\u001b[0m\u001b[0m\n\u001b[0;32m----> 9\u001b[0;31m \u001b[0mplot_scatter\u001b[0m\u001b[0;34m.\u001b[0m\u001b[0msavefig\u001b[0m\u001b[0;34m(\u001b[0m\u001b[0;34m'petals.png'\u001b[0m\u001b[0;34m)\u001b[0m\u001b[0;34m\u001b[0m\u001b[0;34m\u001b[0m\u001b[0m\n\u001b[0m",
            "\u001b[0;31mAttributeError\u001b[0m: 'AxesSubplot' object has no attribute 'savefig'"
          ]
        },
        {
          "output_type": "display_data",
          "data": {
            "image/png": "[encoded data removed]",
            "text/plain": [
              "<Figure size 432x288 with 1 Axes>"
            ]
          },
          "metadata": {
            "tags": [],
            "needs_background": "light"
          }
        }
      ]
    },
    {
      "cell_type": "code",
      "metadata": {
        "id": "QBnwmSUWDpTp",
        "colab_type": "code",
        "outputId": "1fb5ff18-8b2e-4688-e012-b207c7d6210b",
        "colab": {
          "base_uri": "https://localhost:8080/",
          "height": 312
        }
      },
      "source": [
        "plot_sepal_scatter = file_input[file_input.Species==0].plot.scatter(x='SepalLengthCm', y='SepalWidthCm', \n",
        "                                                    color='red', label='setosa')\n",
        "file_input[file_input.Species==1].plot.scatter(x='SepalLengthCm', y='SepalWidthCm', \n",
        "                                                color='green', label='versicolor', ax=plot_sepal_scatter)\n",
        "file_input[file_input.Species==2].plot.scatter(x='SepalLengthCm', y='SepalWidthCm', \n",
        "                                                color='blue', label='virginica', ax=plot_sepal_scatter)\n",
        "plot_sepal_scatter.set_title(\"Scatter_plot\")"
      ],
      "execution_count": 0,
      "outputs": [
        {
          "output_type": "execute_result",
          "data": {
            "text/plain": [
              "Text(0.5, 1.0, 'Scatter_plot')"
            ]
          },
          "metadata": {
            "tags": []
          },
          "execution_count": 95
        },
        {
          "output_type": "display_data",
          "data": {
            "image/png": "[encoded data removed]",
            "text/plain": [
              "<Figure size 432x288 with 1 Axes>"
            ]
          },
          "metadata": {
            "tags": [],
            "needs_background": "light"
          }
        }
      ]
    },
    {
      "cell_type": "code",
      "metadata": {
        "id": "nhBJnBpyzs2C",
        "colab_type": "code",
        "colab": {}
      },
      "source": [
        "X = file_input[file_input.columns[0:4]]\n",
        "# print(X)\n",
        "\n",
        "Y = file_input[file_input.columns[4]]\n",
        "# print(Y)"
      ],
      "execution_count": 0,
      "outputs": []
    },
    {
      "cell_type": "code",
      "metadata": {
        "id": "13y-_RkO07QU",
        "colab_type": "code",
        "colab": {}
      },
      "source": [
        "x_train, x_test, y_train, y_test = train_test_split(X,Y, test_size = 0.3)"
      ],
      "execution_count": 0,
      "outputs": []
    },
    {
      "cell_type": "code",
      "metadata": {
        "id": "QH7XCele2EZd",
        "colab_type": "code",
        "colab": {}
      },
      "source": [
        "# print(x_train.shape)\n",
        "# print(x_test.shape)\n",
        "# print(X.shape)"
      ],
      "execution_count": 0,
      "outputs": []
    },
    {
      "cell_type": "code",
      "metadata": {
        "id": "H-0-MDks2Ke3",
        "colab_type": "code",
        "colab": {}
      },
      "source": [
        "from sklearn import neighbors"
      ],
      "execution_count": 0,
      "outputs": []
    },
    {
      "cell_type": "code",
      "metadata": {
        "id": "Zm-PJKPf3VZN",
        "colab_type": "code",
        "colab": {}
      },
      "source": [
        "classify_petals = neighbors.KNeighborsClassifier()"
      ],
      "execution_count": 0,
      "outputs": []
    },
    {
      "cell_type": "code",
      "metadata": {
        "id": "kUm-VDJ_3iH-",
        "colab_type": "code",
        "outputId": "873cab8d-7918-4c3e-fe73-de68bc5ac0b4",
        "colab": {
          "base_uri": "https://localhost:8080/",
          "height": 68
        }
      },
      "source": [
        "classify_petals.fit(x_train, y_train)"
      ],
      "execution_count": 0,
      "outputs": [
        {
          "output_type": "execute_result",
          "data": {
            "text/plain": [
              "KNeighborsClassifier(algorithm='auto', leaf_size=30, metric='minkowski',\n",
              "                     metric_params=None, n_jobs=None, n_neighbors=5, p=2,\n",
              "                     weights='uniform')"
            ]
          },
          "metadata": {
            "tags": []
          },
          "execution_count": 81
        }
      ]
    },
    {
      "cell_type": "code",
      "metadata": {
        "id": "mIWP2QAZ3pSO",
        "colab_type": "code",
        "colab": {}
      },
      "source": [
        "predictions = classify_petals.predict(x_test)\n",
        "# print(predictions)"
      ],
      "execution_count": 0,
      "outputs": []
    },
    {
      "cell_type": "code",
      "metadata": {
        "id": "5zsrrfXI3y__",
        "colab_type": "code",
        "outputId": "d152f4bc-9527-4cd3-a10f-5232ddee7204",
        "colab": {
          "base_uri": "https://localhost:8080/",
          "height": 34
        }
      },
      "source": [
        "score = accuracy_score(y_test, predictions)\n",
        "print(score)"
      ],
      "execution_count": 0,
      "outputs": [
        {
          "output_type": "stream",
          "text": [
            "0.9333333333333333\n"
          ],
          "name": "stdout"
        }
      ]
    },
    {
      "cell_type": "code",
      "metadata": {
        "id": "wlDdq4Gj4BAB",
        "colab_type": "code",
        "colab": {}
      },
      "source": [
        "# Example to check your own inputs\n",
        "\n",
        "values = [[5.9,\t3,\t5.1,\t1.8]]"
      ],
      "execution_count": 0,
      "outputs": []
    },
    {
      "cell_type": "code",
      "metadata": {
        "id": "Z25168lq45Os",
        "colab_type": "code",
        "outputId": "4a04fbd1-5fb5-412d-be5b-cd75a90fe962",
        "colab": {
          "base_uri": "https://localhost:8080/",
          "height": 34
        }
      },
      "source": [
        "predict_flower = classify_petals.predict(values)\n",
        "\n",
        "if (predict_flower == 0):\n",
        "  print('setosa')\n",
        "elif (predict_flower == 1):\n",
        "  print('versicolor')\n",
        "else:\n",
        "  print('virginica')"
      ],
      "execution_count": 0,
      "outputs": [
        {
          "output_type": "stream",
          "text": [
            "virginica\n"
          ],
          "name": "stdout"
        }
      ]
    },
    {
      "cell_type": "code",
      "metadata": {
        "id": "Ma-Y1sNLAyYx",
        "colab_type": "code",
        "colab": {}
      },
      "source": [
        ""
      ],
      "execution_count": 0,
      "outputs": []
    }
  ]
}